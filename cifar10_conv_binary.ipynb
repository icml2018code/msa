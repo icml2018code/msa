{
 "cells": [
  {
   "cell_type": "code",
   "execution_count": 1,
   "metadata": {},
   "outputs": [],
   "source": [
    "import numpy as np\n",
    "import matplotlib.pyplot as plt\n",
    "import tensorflow as tf\n",
    "%matplotlib inline\n",
    "%load_ext autoreload\n",
    "%autoreload 2\n"
   ]
  },
  {
   "cell_type": "code",
   "execution_count": 2,
   "metadata": {},
   "outputs": [
    {
     "name": "stdout",
     "output_type": "stream",
     "text": [
      "Data has apparently already been downloaded and unpacked.\n",
      "Loading data: data/CIFAR-10/cifar-10-batches-py/data_batch_1\n",
      "Loading data: data/CIFAR-10/cifar-10-batches-py/data_batch_2\n",
      "Loading data: data/CIFAR-10/cifar-10-batches-py/data_batch_3\n",
      "Loading data: data/CIFAR-10/cifar-10-batches-py/data_batch_4\n",
      "Loading data: data/CIFAR-10/cifar-10-batches-py/data_batch_5\n",
      "Loading data: data/CIFAR-10/cifar-10-batches-py/test_batch\n"
     ]
    }
   ],
   "source": [
    "from utils import load_cifar10_data\n",
    "x_train, y_train, x_validate, y_validate, x_test, y_test = load_cifar10_data()"
   ]
  },
  {
   "cell_type": "code",
   "execution_count": 3,
   "metadata": {},
   "outputs": [
    {
     "name": "stderr",
     "output_type": "stream",
     "text": [
      "/home/astar/binary2/lib/python3.5/importlib/_bootstrap.py:222: RuntimeWarning: numpy.dtype size changed, may indicate binary incompatibility\n",
      "  return f(*args, **kwds)\n"
     ]
    }
   ],
   "source": [
    "import network, train, utils\n",
    "from layers import ReluLayer, BinaryFullyConnectedLayer, \\\n",
    "    BinaryConvolutionLayer, BatchNormLayer, MaxPoolingLayer"
   ]
  },
  {
   "cell_type": "code",
   "execution_count": 4,
   "metadata": {},
   "outputs": [],
   "source": [
    "nn = network.NeuralNetwork(in_size=[None, 32, 32, 3], n_out_classes=10, \n",
    "                           loss_func=utils.smooth_hinge_loss)\n",
    "nn.reset_graph()\n",
    "\n",
    "# Hidden Conv-1\n",
    "nn.add_layer(BinaryConvolutionLayer(\n",
    "    out_dim=128, filter_size=3))\n",
    "nn.add_layer(BatchNormLayer(axes=[0, 1, 2]))\n",
    "nn.add_layer(ReluLayer())\n",
    "\n",
    "# Hidden Conv-2\n",
    "nn.add_layer(BinaryConvolutionLayer(\n",
    "    out_dim=128, filter_size=3))\n",
    "nn.add_layer(MaxPoolingLayer())\n",
    "nn.add_layer(BatchNormLayer(axes=[0, 1, 2]))\n",
    "nn.add_layer(ReluLayer())\n",
    "\n",
    "# Hidden Conv-3\n",
    "nn.add_layer(BinaryConvolutionLayer(\n",
    "    out_dim=256, filter_size=3))\n",
    "nn.add_layer(BatchNormLayer(axes=[0, 1, 2]))\n",
    "nn.add_layer(ReluLayer())\n",
    "\n",
    "# Hidden Conv-4\n",
    "nn.add_layer(BinaryConvolutionLayer(\n",
    "    out_dim=256, filter_size=3))\n",
    "nn.add_layer(MaxPoolingLayer())\n",
    "nn.add_layer(BatchNormLayer(axes=[0, 1, 2]))\n",
    "nn.add_layer(ReluLayer())\n",
    "\n",
    "# Hidden Conv-5\n",
    "nn.add_layer(BinaryConvolutionLayer(\n",
    "    out_dim=512, filter_size=3))\n",
    "nn.add_layer(BatchNormLayer(axes=[0, 1, 2]))\n",
    "nn.add_layer(ReluLayer())\n",
    "\n",
    "# Hidden Conv-6\n",
    "nn.add_layer(BinaryConvolutionLayer(\n",
    "    out_dim=512, filter_size=3))\n",
    "nn.add_layer(MaxPoolingLayer())\n",
    "nn.add_layer(BatchNormLayer(axes=[0, 1, 2]))\n",
    "nn.add_layer(ReluLayer())\n",
    "\n",
    "# Hidden Fc-7\n",
    "nn.add_layer(BinaryFullyConnectedLayer(\n",
    "    out_dim=1024))\n",
    "nn.add_layer(BatchNormLayer(axes=[0]))\n",
    "nn.add_layer(ReluLayer())\n",
    "\n",
    "# Hidden Fc-8\n",
    "nn.add_layer(BinaryFullyConnectedLayer(\n",
    "    out_dim=1024))\n",
    "nn.add_layer(BatchNormLayer(axes=[0]))\n",
    "nn.add_layer(ReluLayer())\n",
    "\n",
    "# Hidden Fc-9\n",
    "nn.add_layer(BinaryFullyConnectedLayer(out_dim=10))\n",
    "nn.add_layer(BatchNormLayer(axes=[0]))\n",
    "\n",
    "nn.finalize()"
   ]
  },
  {
   "cell_type": "code",
   "execution_count": 5,
   "metadata": {},
   "outputs": [],
   "source": [
    "data_train = (x_train, y_train)\n",
    "opt = train.Trainer(nn, data_train)"
   ]
  },
  {
   "cell_type": "code",
   "execution_count": 6,
   "metadata": {},
   "outputs": [],
   "source": [
    "# Hyper-parameters\n",
    "opt.set_rho(0.5)\n",
    "opt.set_ema_rates(0.999)"
   ]
  },
  {
   "cell_type": "code",
   "execution_count": 7,
   "metadata": {},
   "outputs": [
    {
     "name": "stdout",
     "output_type": "stream",
     "text": [
      "Epoch:  0\n",
      "========= Begin epoch =========\n",
      "batch_size = 100\n",
      "EMA rates:\n",
      "[0.999, 0.999, 0.999, 0.999, 0.999, 0.999, 0.999, 0.999, 0.999]\n",
      "rho:\n",
      "[0.5, 0.5, 0.5, 0.5, 0.5, 0.5, 0.5, 0.5, 0.5]\n",
      "Iter: 0 of 450 || Estimated train loss/acc: 2.627206, 0.42\n",
      "Iter: 45 of 450 || Estimated train loss/acc: 2.423992, 0.31\n",
      "Iter: 90 of 450 || Estimated train loss/acc: 2.251406, 0.39\n",
      "Iter: 135 of 450 || Estimated train loss/acc: 2.155034, 0.30\n",
      "Iter: 180 of 450 || Estimated train loss/acc: 1.973269, 0.40\n",
      "Iter: 225 of 450 || Estimated train loss/acc: 1.824133, 0.34\n",
      "Iter: 270 of 450 || Estimated train loss/acc: 1.724646, 0.41\n",
      "Iter: 315 of 450 || Estimated train loss/acc: 1.764586, 0.33\n",
      "Iter: 360 of 450 || Estimated train loss/acc: 1.607847, 0.32\n",
      "Iter: 405 of 450 || Estimated train loss/acc: 1.382671, 0.44\n",
      "Train loss/acc:  (1.4507601907518175, 0.3601111110051473) Test loss/acc:  (1.460156831741333, 0.3535000026226044)\n",
      "Epoch:  1\n",
      "========= Begin epoch =========\n",
      "batch_size = 100\n",
      "EMA rates:\n",
      "[0.99902004, 0.99902004, 0.99902004, 0.99902004, 0.99902004, 0.99902004, 0.99902004, 0.99902004, 0.99902004]\n",
      "rho:\n",
      "[0.5, 0.5, 0.5, 0.5, 0.5, 0.5, 0.5, 0.5, 0.5]\n",
      "Iter: 0 of 450 || Estimated train loss/acc: 1.286620, 0.50\n",
      "Iter: 45 of 450 || Estimated train loss/acc: 1.216611, 0.51\n",
      "Iter: 90 of 450 || Estimated train loss/acc: 1.123076, 0.54\n",
      "Iter: 135 of 450 || Estimated train loss/acc: 1.096835, 0.45\n",
      "Iter: 180 of 450 || Estimated train loss/acc: 1.115180, 0.47\n",
      "Iter: 225 of 450 || Estimated train loss/acc: 1.038512, 0.46\n",
      "Iter: 270 of 450 || Estimated train loss/acc: 0.909391, 0.57\n",
      "Iter: 315 of 450 || Estimated train loss/acc: 0.849443, 0.54\n",
      "Iter: 360 of 450 || Estimated train loss/acc: 0.843494, 0.54\n",
      "Iter: 405 of 450 || Estimated train loss/acc: 0.712186, 0.65\n",
      "Train loss/acc:  (0.8102706389957004, 0.4987999971707662) Test loss/acc:  (0.8231895852088928, 0.4818999981880188)\n",
      "Epoch:  2\n",
      "========= Begin epoch =========\n",
      "batch_size = 100\n",
      "EMA rates:\n",
      "[0.99903965, 0.99903965, 0.99903965, 0.99903965, 0.99903965, 0.99903965, 0.99903965, 0.99903965, 0.99903965]\n",
      "rho:\n",
      "[0.5, 0.5, 0.5, 0.5, 0.5, 0.5, 0.5, 0.5, 0.5]\n",
      "Iter: 0 of 450 || Estimated train loss/acc: 0.679824, 0.69\n",
      "Iter: 45 of 450 || Estimated train loss/acc: 0.655528, 0.63\n",
      "Iter: 90 of 450 || Estimated train loss/acc: 0.596748, 0.69\n",
      "Iter: 135 of 450 || Estimated train loss/acc: 0.621394, 0.59\n",
      "Iter: 180 of 450 || Estimated train loss/acc: 0.628534, 0.55\n",
      "Iter: 225 of 450 || Estimated train loss/acc: 0.498275, 0.73\n",
      "Iter: 270 of 450 || Estimated train loss/acc: 0.493977, 0.63\n",
      "Iter: 315 of 450 || Estimated train loss/acc: 0.480298, 0.70\n",
      "Iter: 360 of 450 || Estimated train loss/acc: 0.423443, 0.71\n",
      "Iter: 405 of 450 || Estimated train loss/acc: 0.420532, 0.70\n",
      "Train loss/acc:  (0.40370408627722, 0.6256222221586439) Test loss/acc:  (0.42134428858757017, 0.5971999979019165)\n",
      "Epoch:  3\n",
      "========= Begin epoch =========\n",
      "batch_size = 100\n",
      "EMA rates:\n",
      "[0.99905884, 0.99905884, 0.99905884, 0.99905884, 0.99905884, 0.99905884, 0.99905884, 0.99905884, 0.99905884]\n",
      "rho:\n",
      "[0.5, 0.5, 0.5, 0.5, 0.5, 0.5, 0.5, 0.5, 0.5]\n",
      "Iter: 0 of 450 || Estimated train loss/acc: 0.389971, 0.65\n",
      "Iter: 45 of 450 || Estimated train loss/acc: 0.380257, 0.66\n",
      "Iter: 90 of 450 || Estimated train loss/acc: 0.360119, 0.74\n",
      "Iter: 135 of 450 || Estimated train loss/acc: 0.328595, 0.71\n",
      "Iter: 180 of 450 || Estimated train loss/acc: 0.306565, 0.75\n",
      "Iter: 225 of 450 || Estimated train loss/acc: 0.349351, 0.62\n",
      "Iter: 270 of 450 || Estimated train loss/acc: 0.229344, 0.86\n",
      "Iter: 315 of 450 || Estimated train loss/acc: 0.284718, 0.72\n",
      "Iter: 360 of 450 || Estimated train loss/acc: 0.252681, 0.78\n",
      "Iter: 405 of 450 || Estimated train loss/acc: 0.263093, 0.73\n",
      "Train loss/acc:  (0.30553843869103325, 0.6550222232606676) Test loss/acc:  (0.32462122559547424, 0.6283999967575074)\n",
      "Epoch:  4\n",
      "========= Begin epoch =========\n",
      "batch_size = 100\n",
      "EMA rates:\n",
      "[0.9990777, 0.9990777, 0.9990777, 0.9990777, 0.9990777, 0.9990777, 0.9990777, 0.9990777, 0.9990777]\n",
      "rho:\n",
      "[0.5, 0.5, 0.5, 0.5, 0.5, 0.5, 0.5, 0.5, 0.5]\n",
      "Iter: 0 of 450 || Estimated train loss/acc: 0.235420, 0.78\n",
      "Iter: 45 of 450 || Estimated train loss/acc: 0.203338, 0.78\n",
      "Iter: 90 of 450 || Estimated train loss/acc: 0.182857, 0.86\n",
      "Iter: 135 of 450 || Estimated train loss/acc: 0.182628, 0.80\n",
      "Iter: 180 of 450 || Estimated train loss/acc: 0.186193, 0.83\n",
      "Iter: 225 of 450 || Estimated train loss/acc: 0.204975, 0.75\n",
      "Iter: 270 of 450 || Estimated train loss/acc: 0.185397, 0.75\n",
      "Iter: 315 of 450 || Estimated train loss/acc: 0.245059, 0.73\n",
      "Iter: 360 of 450 || Estimated train loss/acc: 0.155787, 0.80\n",
      "Iter: 405 of 450 || Estimated train loss/acc: 0.145355, 0.82\n",
      "Train loss/acc:  (0.18007545782460108, 0.7784222216076321) Test loss/acc:  (0.20874902129173278, 0.7347000026702881)\n",
      "Epoch:  5\n",
      "========= Begin epoch =========\n",
      "batch_size = 100\n",
      "EMA rates:\n",
      "[0.9990961, 0.9990961, 0.9990961, 0.9990961, 0.9990961, 0.9990961, 0.9990961, 0.9990961, 0.9990961]\n",
      "rho:\n",
      "[0.5, 0.5, 0.5, 0.5, 0.5, 0.5, 0.5, 0.5, 0.5]\n",
      "Iter: 0 of 450 || Estimated train loss/acc: 0.161622, 0.81\n",
      "Iter: 45 of 450 || Estimated train loss/acc: 0.137775, 0.85\n",
      "Iter: 90 of 450 || Estimated train loss/acc: 0.154511, 0.81\n",
      "Iter: 135 of 450 || Estimated train loss/acc: 0.104650, 0.88\n",
      "Iter: 180 of 450 || Estimated train loss/acc: 0.154922, 0.78\n",
      "Iter: 225 of 450 || Estimated train loss/acc: 0.138729, 0.82\n",
      "Iter: 270 of 450 || Estimated train loss/acc: 0.125167, 0.84\n",
      "Iter: 315 of 450 || Estimated train loss/acc: 0.156565, 0.79\n",
      "Iter: 360 of 450 || Estimated train loss/acc: 0.109813, 0.87\n",
      "Iter: 405 of 450 || Estimated train loss/acc: 0.141697, 0.78\n",
      "Train loss/acc:  (0.21116067793634202, 0.6677333333757188) Test loss/acc:  (0.24323771595954896, 0.6266000032424927)\n",
      "Epoch:  6\n",
      "========= Begin epoch =========\n",
      "batch_size = 100\n",
      "EMA rates:\n",
      "[0.99911416, 0.99911416, 0.99911416, 0.99911416, 0.99911416, 0.99911416, 0.99911416, 0.99911416, 0.99911416]\n",
      "rho:\n",
      "[0.5, 0.5, 0.5, 0.5, 0.5, 0.5, 0.5, 0.5, 0.5]\n",
      "Iter: 0 of 450 || Estimated train loss/acc: 0.089181, 0.91\n",
      "Iter: 45 of 450 || Estimated train loss/acc: 0.108815, 0.87\n",
      "Iter: 90 of 450 || Estimated train loss/acc: 0.096696, 0.86\n",
      "Iter: 135 of 450 || Estimated train loss/acc: 0.098567, 0.84\n",
      "Iter: 180 of 450 || Estimated train loss/acc: 0.084696, 0.88\n",
      "Iter: 225 of 450 || Estimated train loss/acc: 0.081093, 0.90\n",
      "Iter: 270 of 450 || Estimated train loss/acc: 0.112894, 0.80\n",
      "Iter: 315 of 450 || Estimated train loss/acc: 0.081293, 0.92\n",
      "Iter: 360 of 450 || Estimated train loss/acc: 0.091831, 0.89\n",
      "Iter: 405 of 450 || Estimated train loss/acc: 0.121263, 0.82\n",
      "Train loss/acc:  (0.1397648009326723, 0.7964666697714063) Test loss/acc:  (0.17894851446151733, 0.7342999935150146)\n",
      "Epoch:  7\n",
      "========= Begin epoch =========\n",
      "batch_size = 100\n",
      "EMA rates:\n",
      "[0.99913186, 0.99913186, 0.99913186, 0.99913186, 0.99913186, 0.99913186, 0.99913186, 0.99913186, 0.99913186]\n",
      "rho:\n",
      "[0.5, 0.5, 0.5, 0.5, 0.5, 0.5, 0.5, 0.5, 0.5]\n",
      "Iter: 0 of 450 || Estimated train loss/acc: 0.061166, 0.93\n",
      "Iter: 45 of 450 || Estimated train loss/acc: 0.099874, 0.88\n",
      "Iter: 90 of 450 || Estimated train loss/acc: 0.066651, 0.91\n",
      "Iter: 135 of 450 || Estimated train loss/acc: 0.078953, 0.90\n",
      "Iter: 180 of 450 || Estimated train loss/acc: 0.046602, 0.96\n",
      "Iter: 225 of 450 || Estimated train loss/acc: 0.067482, 0.91\n",
      "Iter: 270 of 450 || Estimated train loss/acc: 0.122586, 0.81\n",
      "Iter: 315 of 450 || Estimated train loss/acc: 0.083680, 0.88\n",
      "Iter: 360 of 450 || Estimated train loss/acc: 0.082294, 0.91\n",
      "Iter: 405 of 450 || Estimated train loss/acc: 0.089254, 0.88\n",
      "Train loss/acc:  (0.16571476731035445, 0.7189777811368306) Test loss/acc:  (0.19952723622322083, 0.6701999950408936)\n",
      "Epoch:  8\n",
      "========= Begin epoch =========\n",
      "batch_size = 100\n",
      "EMA rates:\n",
      "[0.9991492, 0.9991492, 0.9991492, 0.9991492, 0.9991492, 0.9991492, 0.9991492, 0.9991492, 0.9991492]\n",
      "rho:\n",
      "[0.5, 0.5, 0.5, 0.5, 0.5, 0.5, 0.5, 0.5, 0.5]\n",
      "Iter: 0 of 450 || Estimated train loss/acc: 0.068282, 0.95\n",
      "Iter: 45 of 450 || Estimated train loss/acc: 0.086987, 0.87\n",
      "Iter: 90 of 450 || Estimated train loss/acc: 0.065691, 0.92\n",
      "Iter: 135 of 450 || Estimated train loss/acc: 0.057309, 0.95\n",
      "Iter: 180 of 450 || Estimated train loss/acc: 0.057600, 0.93\n",
      "Iter: 225 of 450 || Estimated train loss/acc: 0.084495, 0.85\n",
      "Iter: 270 of 450 || Estimated train loss/acc: 0.072566, 0.91\n"
     ]
    },
    {
     "name": "stdout",
     "output_type": "stream",
     "text": [
      "Iter: 315 of 450 || Estimated train loss/acc: 0.059356, 0.91\n",
      "Iter: 360 of 450 || Estimated train loss/acc: 0.063340, 0.92\n",
      "Iter: 405 of 450 || Estimated train loss/acc: 0.089027, 0.89\n",
      "Train loss/acc:  (0.11824405034383138, 0.8073111118210686) Test loss/acc:  (0.15977851510047913, 0.733800003528595)\n",
      "Epoch:  9\n",
      "========= Begin epoch =========\n",
      "batch_size = 100\n",
      "EMA rates:\n",
      "[0.9991662, 0.9991662, 0.9991662, 0.9991662, 0.9991662, 0.9991662, 0.9991662, 0.9991662, 0.9991662]\n",
      "rho:\n",
      "[0.5, 0.5, 0.5, 0.5, 0.5, 0.5, 0.5, 0.5, 0.5]\n",
      "Iter: 0 of 450 || Estimated train loss/acc: 0.057180, 0.90\n",
      "Iter: 45 of 450 || Estimated train loss/acc: 0.040245, 0.97\n",
      "Iter: 90 of 450 || Estimated train loss/acc: 0.059326, 0.92\n",
      "Iter: 135 of 450 || Estimated train loss/acc: 0.060088, 0.94\n",
      "Iter: 180 of 450 || Estimated train loss/acc: 0.024633, 0.98\n",
      "Iter: 225 of 450 || Estimated train loss/acc: 0.073244, 0.86\n",
      "Iter: 270 of 450 || Estimated train loss/acc: 0.092752, 0.87\n",
      "Iter: 315 of 450 || Estimated train loss/acc: 0.047597, 0.94\n",
      "Iter: 360 of 450 || Estimated train loss/acc: 0.052700, 0.93\n",
      "Iter: 405 of 450 || Estimated train loss/acc: 0.059750, 0.92\n",
      "Train loss/acc:  (0.1025905293226242, 0.836111110051473) Test loss/acc:  (0.14725247889757156, 0.7607999992370605)\n"
     ]
    }
   ],
   "source": [
    "losses_and_accs_train = []\n",
    "losses_and_accs_valid = []\n",
    "losses_and_accs_test = []\n",
    "\n",
    "n_epochs = 500\n",
    "\n",
    "for t in range(n_epochs):        \n",
    "    print('Epoch: ', t)\n",
    "\n",
    "    opt.train_epoch(batch_size=100, ema_decay=0.98, n_output=10, verbose=True)\n",
    "    losses_and_accs_train.append(\n",
    "        opt.loss_and_accuracy((x_train, y_train), max_batch=400, inference=True))\n",
    "    losses_and_accs_test.append(\n",
    "        opt.loss_and_accuracy((x_test, y_test), max_batch=400, inference=True))\n",
    "    losses_and_accs_valid.append(\n",
    "        opt.loss_and_accuracy((x_validate, y_validate), max_batch=400, inference=True))\n",
    "    \n",
    "    print('Train loss/acc: ', losses_and_accs_train[-1],\n",
    "          'Test loss/acc: ', losses_and_accs_test[-1])\n",
    "    \n",
    "losses_and_accs_train = np.asarray(losses_and_accs_train)\n",
    "losses_and_accs_valid = np.asarray(losses_and_accs_valid)\n",
    "losses_and_accs_test = np.asarray(losses_and_accs_test)"
   ]
  },
  {
   "cell_type": "code",
   "execution_count": 8,
   "metadata": {
    "scrolled": true
   },
   "outputs": [
    {
     "name": "stdout",
     "output_type": "stream",
     "text": [
      "Train:  (0.1025905293226242, 0.836111110051473)\n",
      "Valid:  (0.14078369140625, 0.7754000020027161)\n",
      "Test:  (0.14725247889757156, 0.7607999992370605)\n"
     ]
    }
   ],
   "source": [
    "print('Train: ', opt.loss_and_accuracy((x_train, y_train), inference=True,\n",
    "                                       max_batch=400))\n",
    "print('Valid: ', opt.loss_and_accuracy((x_validate, y_validate), inference=True,\n",
    "                                      max_batch=400))\n",
    "print('Test: ', opt.loss_and_accuracy((x_test, y_test), inference=True,\n",
    "                                     max_batch=400))"
   ]
  },
  {
   "cell_type": "code",
   "execution_count": 9,
   "metadata": {},
   "outputs": [
    {
     "name": "stdout",
     "output_type": "stream",
     "text": [
      "Best epoch:  10\n",
      "Train acc:  0.836111110051473\n",
      "Valid acc:  0.7754000020027161\n",
      "Test acc:  0.7607999992370605\n"
     ]
    }
   ],
   "source": [
    "best_epoch = np.argmax(losses_and_accs_valid[:,1]) + 1\n",
    "print('Best epoch: ', best_epoch)\n",
    "print('Train acc: ', losses_and_accs_train[best_epoch-1, 1])\n",
    "print('Valid acc: ', losses_and_accs_valid[best_epoch-1, 1])\n",
    "print('Test acc: ', losses_and_accs_test[best_epoch-1, 1])"
   ]
  },
  {
   "cell_type": "code",
   "execution_count": 10,
   "metadata": {},
   "outputs": [
    {
     "name": "stdout",
     "output_type": "stream",
     "text": [
      "Final results:  [0.10259053 0.83611111 0.14078369 0.7754     0.14725248 0.7608    ]\n"
     ]
    },
    {
     "data": {
      "image/png": "[encoded data removed]",
      "text/plain": [
       "<matplotlib.figure.Figure at 0x7fdf60e47f28>"
      ]
     },
     "metadata": {},
     "output_type": "display_data"
    }
   ],
   "source": [
    "# Save data\n",
    "losses_and_accs = np.concatenate(\n",
    "    [np.asarray(losses_and_accs_train),\n",
    "     np.asarray(losses_and_accs_valid),\n",
    "     np.asarray(losses_and_accs_test)], axis=1)\n",
    "\n",
    "# Plot\n",
    "fig, (ax1, ax2) = plt.subplots(1, 2, figsize=(10,4))\n",
    "ax1.semilogy(losses_and_accs[:,0], '-o', label='Train loss')\n",
    "ax1.semilogy(losses_and_accs[:,2], '-o', label='Valid loss')\n",
    "ax1.semilogy(losses_and_accs[:,4], '-o', label='Test loss')\n",
    "\n",
    "ax2.plot(losses_and_accs[:,1], '-o', label='Train acc')\n",
    "ax2.plot(losses_and_accs[:,3], '-o', label='Valid acc')\n",
    "ax2.plot(losses_and_accs[:,5], '-o', label='Test acc')\n",
    "\n",
    "for ax in [ax1,ax2]:\n",
    "    ax.legend()\n",
    "\n",
    "ax2.set_ylim(0.1,1)\n",
    "    \n",
    "print('Final results: ', losses_and_accs[-1])"
   ]
  }
 ],
 "metadata": {
  "kernelspec": {
   "display_name": "Python 3",
   "language": "python",
   "name": "python3"
  },
  "language_info": {
   "codemirror_mode": {
    "name": "ipython",
    "version": 3
   },
   "file_extension": ".py",
   "mimetype": "text/x-python",
   "name": "python",
   "nbconvert_exporter": "python",
   "pygments_lexer": "ipython3",
   "version": "3.5.2"
  }
 },
 "nbformat": 4,
 "nbformat_minor": 2
}
